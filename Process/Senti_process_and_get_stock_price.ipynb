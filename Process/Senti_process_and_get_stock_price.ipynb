{
 "cells": [
  {
   "cell_type": "code",
   "execution_count": 1,
   "metadata": {},
   "outputs": [],
   "source": [
    "import os\n",
    "import pandas as pd\n",
    "import numpy as np\n",
    "from vaderSentiment.vaderSentiment import SentimentIntensityAnalyzer\n",
    "import datetime"
   ]
  },
  {
   "cell_type": "code",
   "execution_count": 2,
   "metadata": {},
   "outputs": [],
   "source": [
    "tweet_path = 'Raw_tweets'\n",
    "store_path = 'Senti_score'"
   ]
  },
  {
   "cell_type": "code",
   "execution_count": 3,
   "metadata": {},
   "outputs": [],
   "source": [
    "df = pd.read_csv('Ticker.csv')"
   ]
  },
  {
   "cell_type": "code",
   "execution_count": 4,
   "metadata": {},
   "outputs": [],
   "source": [
    "ticker = list(df['Ticker'])"
   ]
  },
  {
   "cell_type": "code",
   "execution_count": 5,
   "metadata": {},
   "outputs": [],
   "source": [
    "def sentimentScore(Tweet):\n",
    "    analyzer = SentimentIntensityAnalyzer()\n",
    "    results = []\n",
    "    for sentence in Tweet:\n",
    "        vs = analyzer.polarity_scores(sentence)\n",
    "        results.append(vs)\n",
    "    return results"
   ]
  },
  {
   "cell_type": "code",
   "execution_count": 6,
   "metadata": {
    "scrolled": true
   },
   "outputs": [
    {
     "name": "stderr",
     "output_type": "stream",
     "text": [
      "<ipython-input-6-d5bb30455788>:12: SettingWithCopyWarning: \n",
      "A value is trying to be set on a copy of a slice from a DataFrame\n",
      "\n",
      "See the caveats in the documentation: https://pandas.pydata.org/pandas-docs/stable/user_guide/indexing.html#returning-a-view-versus-a-copy\n",
      "  df_tweet['Score'][df_tweet['compound']<0]=-1\n",
      "<ipython-input-6-d5bb30455788>:13: SettingWithCopyWarning: \n",
      "A value is trying to be set on a copy of a slice from a DataFrame\n",
      "\n",
      "See the caveats in the documentation: https://pandas.pydata.org/pandas-docs/stable/user_guide/indexing.html#returning-a-view-versus-a-copy\n",
      "  df_tweet['Score'][df_tweet['compound']>0]=1\n",
      "<ipython-input-6-d5bb30455788>:12: SettingWithCopyWarning: \n",
      "A value is trying to be set on a copy of a slice from a DataFrame\n",
      "\n",
      "See the caveats in the documentation: https://pandas.pydata.org/pandas-docs/stable/user_guide/indexing.html#returning-a-view-versus-a-copy\n",
      "  df_tweet['Score'][df_tweet['compound']<0]=-1\n",
      "<ipython-input-6-d5bb30455788>:13: SettingWithCopyWarning: \n",
      "A value is trying to be set on a copy of a slice from a DataFrame\n",
      "\n",
      "See the caveats in the documentation: https://pandas.pydata.org/pandas-docs/stable/user_guide/indexing.html#returning-a-view-versus-a-copy\n",
      "  df_tweet['Score'][df_tweet['compound']>0]=1\n",
      "<ipython-input-6-d5bb30455788>:12: SettingWithCopyWarning: \n",
      "A value is trying to be set on a copy of a slice from a DataFrame\n",
      "\n",
      "See the caveats in the documentation: https://pandas.pydata.org/pandas-docs/stable/user_guide/indexing.html#returning-a-view-versus-a-copy\n",
      "  df_tweet['Score'][df_tweet['compound']<0]=-1\n",
      "<ipython-input-6-d5bb30455788>:13: SettingWithCopyWarning: \n",
      "A value is trying to be set on a copy of a slice from a DataFrame\n",
      "\n",
      "See the caveats in the documentation: https://pandas.pydata.org/pandas-docs/stable/user_guide/indexing.html#returning-a-view-versus-a-copy\n",
      "  df_tweet['Score'][df_tweet['compound']>0]=1\n",
      "<ipython-input-6-d5bb30455788>:12: SettingWithCopyWarning: \n",
      "A value is trying to be set on a copy of a slice from a DataFrame\n",
      "\n",
      "See the caveats in the documentation: https://pandas.pydata.org/pandas-docs/stable/user_guide/indexing.html#returning-a-view-versus-a-copy\n",
      "  df_tweet['Score'][df_tweet['compound']<0]=-1\n",
      "<ipython-input-6-d5bb30455788>:13: SettingWithCopyWarning: \n",
      "A value is trying to be set on a copy of a slice from a DataFrame\n",
      "\n",
      "See the caveats in the documentation: https://pandas.pydata.org/pandas-docs/stable/user_guide/indexing.html#returning-a-view-versus-a-copy\n",
      "  df_tweet['Score'][df_tweet['compound']>0]=1\n",
      "<ipython-input-6-d5bb30455788>:12: SettingWithCopyWarning: \n",
      "A value is trying to be set on a copy of a slice from a DataFrame\n",
      "\n",
      "See the caveats in the documentation: https://pandas.pydata.org/pandas-docs/stable/user_guide/indexing.html#returning-a-view-versus-a-copy\n",
      "  df_tweet['Score'][df_tweet['compound']<0]=-1\n",
      "<ipython-input-6-d5bb30455788>:13: SettingWithCopyWarning: \n",
      "A value is trying to be set on a copy of a slice from a DataFrame\n",
      "\n",
      "See the caveats in the documentation: https://pandas.pydata.org/pandas-docs/stable/user_guide/indexing.html#returning-a-view-versus-a-copy\n",
      "  df_tweet['Score'][df_tweet['compound']>0]=1\n",
      "<ipython-input-6-d5bb30455788>:12: SettingWithCopyWarning: \n",
      "A value is trying to be set on a copy of a slice from a DataFrame\n",
      "\n",
      "See the caveats in the documentation: https://pandas.pydata.org/pandas-docs/stable/user_guide/indexing.html#returning-a-view-versus-a-copy\n",
      "  df_tweet['Score'][df_tweet['compound']<0]=-1\n",
      "<ipython-input-6-d5bb30455788>:13: SettingWithCopyWarning: \n",
      "A value is trying to be set on a copy of a slice from a DataFrame\n",
      "\n",
      "See the caveats in the documentation: https://pandas.pydata.org/pandas-docs/stable/user_guide/indexing.html#returning-a-view-versus-a-copy\n",
      "  df_tweet['Score'][df_tweet['compound']>0]=1\n",
      "<ipython-input-6-d5bb30455788>:12: SettingWithCopyWarning: \n",
      "A value is trying to be set on a copy of a slice from a DataFrame\n",
      "\n",
      "See the caveats in the documentation: https://pandas.pydata.org/pandas-docs/stable/user_guide/indexing.html#returning-a-view-versus-a-copy\n",
      "  df_tweet['Score'][df_tweet['compound']<0]=-1\n",
      "<ipython-input-6-d5bb30455788>:13: SettingWithCopyWarning: \n",
      "A value is trying to be set on a copy of a slice from a DataFrame\n",
      "\n",
      "See the caveats in the documentation: https://pandas.pydata.org/pandas-docs/stable/user_guide/indexing.html#returning-a-view-versus-a-copy\n",
      "  df_tweet['Score'][df_tweet['compound']>0]=1\n",
      "<ipython-input-6-d5bb30455788>:12: SettingWithCopyWarning: \n",
      "A value is trying to be set on a copy of a slice from a DataFrame\n",
      "\n",
      "See the caveats in the documentation: https://pandas.pydata.org/pandas-docs/stable/user_guide/indexing.html#returning-a-view-versus-a-copy\n",
      "  df_tweet['Score'][df_tweet['compound']<0]=-1\n",
      "<ipython-input-6-d5bb30455788>:13: SettingWithCopyWarning: \n",
      "A value is trying to be set on a copy of a slice from a DataFrame\n",
      "\n",
      "See the caveats in the documentation: https://pandas.pydata.org/pandas-docs/stable/user_guide/indexing.html#returning-a-view-versus-a-copy\n",
      "  df_tweet['Score'][df_tweet['compound']>0]=1\n",
      "<ipython-input-6-d5bb30455788>:12: SettingWithCopyWarning: \n",
      "A value is trying to be set on a copy of a slice from a DataFrame\n",
      "\n",
      "See the caveats in the documentation: https://pandas.pydata.org/pandas-docs/stable/user_guide/indexing.html#returning-a-view-versus-a-copy\n",
      "  df_tweet['Score'][df_tweet['compound']<0]=-1\n",
      "<ipython-input-6-d5bb30455788>:13: SettingWithCopyWarning: \n",
      "A value is trying to be set on a copy of a slice from a DataFrame\n",
      "\n",
      "See the caveats in the documentation: https://pandas.pydata.org/pandas-docs/stable/user_guide/indexing.html#returning-a-view-versus-a-copy\n",
      "  df_tweet['Score'][df_tweet['compound']>0]=1\n",
      "<ipython-input-6-d5bb30455788>:12: SettingWithCopyWarning: \n",
      "A value is trying to be set on a copy of a slice from a DataFrame\n",
      "\n",
      "See the caveats in the documentation: https://pandas.pydata.org/pandas-docs/stable/user_guide/indexing.html#returning-a-view-versus-a-copy\n",
      "  df_tweet['Score'][df_tweet['compound']<0]=-1\n",
      "<ipython-input-6-d5bb30455788>:13: SettingWithCopyWarning: \n",
      "A value is trying to be set on a copy of a slice from a DataFrame\n",
      "\n",
      "See the caveats in the documentation: https://pandas.pydata.org/pandas-docs/stable/user_guide/indexing.html#returning-a-view-versus-a-copy\n",
      "  df_tweet['Score'][df_tweet['compound']>0]=1\n",
      "<ipython-input-6-d5bb30455788>:12: SettingWithCopyWarning: \n",
      "A value is trying to be set on a copy of a slice from a DataFrame\n",
      "\n",
      "See the caveats in the documentation: https://pandas.pydata.org/pandas-docs/stable/user_guide/indexing.html#returning-a-view-versus-a-copy\n",
      "  df_tweet['Score'][df_tweet['compound']<0]=-1\n",
      "<ipython-input-6-d5bb30455788>:13: SettingWithCopyWarning: \n",
      "A value is trying to be set on a copy of a slice from a DataFrame\n",
      "\n",
      "See the caveats in the documentation: https://pandas.pydata.org/pandas-docs/stable/user_guide/indexing.html#returning-a-view-versus-a-copy\n",
      "  df_tweet['Score'][df_tweet['compound']>0]=1\n",
      "<ipython-input-6-d5bb30455788>:12: SettingWithCopyWarning: \n",
      "A value is trying to be set on a copy of a slice from a DataFrame\n",
      "\n",
      "See the caveats in the documentation: https://pandas.pydata.org/pandas-docs/stable/user_guide/indexing.html#returning-a-view-versus-a-copy\n",
      "  df_tweet['Score'][df_tweet['compound']<0]=-1\n",
      "<ipython-input-6-d5bb30455788>:13: SettingWithCopyWarning: \n",
      "A value is trying to be set on a copy of a slice from a DataFrame\n",
      "\n",
      "See the caveats in the documentation: https://pandas.pydata.org/pandas-docs/stable/user_guide/indexing.html#returning-a-view-versus-a-copy\n",
      "  df_tweet['Score'][df_tweet['compound']>0]=1\n"
     ]
    }
   ],
   "source": [
    "for i in range(len(ticker)):\n",
    "    \n",
    "    name = ticker[i]+'_tweets.xlsx'\n",
    "    file = os.path.join(tweet_path,name)\n",
    "    tweet_df = pd.read_excel(file,index_col=0)\n",
    "    Tweet = tweet_df['Text']\n",
    "    df_results = pd.DataFrame(sentimentScore(Tweet))\n",
    "    df_tweet = pd.merge(tweet_df['Time'],df_results,left_index=True, right_index=True)\n",
    "    for j in range(len(df_tweet)):\n",
    "        df_tweet.loc[j,'Time'] = df_tweet.loc[j,'Time'].date() \n",
    "    df_tweet['Score']=0\n",
    "    df_tweet['Score'][df_tweet['compound']<0]=-1\n",
    "    df_tweet['Score'][df_tweet['compound']>0]=1\n",
    "\n",
    "    store_name = ticker[i] + '_senti_score.csv'\n",
    "    save_path = os.path.join(store_path,store_name)\n",
    "    df_tweet.to_csv(save_path)"
   ]
  },
  {
   "cell_type": "code",
   "execution_count": 7,
   "metadata": {},
   "outputs": [],
   "source": [
    "for i in range(len(ticker)):\n",
    "    name = ticker[i]+'_senti_score.csv'\n",
    "    file = os.path.join(store_path,name)\n",
    "    senti_df = pd.read_csv(file,index_col=0)\n",
    "    days=list(set(list(senti_df['Time'])))\n",
    "    days.sort()\n",
    "    P_N = pd.DataFrame()\n",
    "    for j in range(len(days)):\n",
    "        num_tw = senti_df[senti_df['Time'] == days[j]]['Score'].count()\n",
    "        P_plus_N = abs(senti_df[senti_df['Time'] == days[j]]['Score']).sum()\n",
    "        P_minue_N = senti_df[senti_df['Time'] == days[j]]['Score'].sum()\n",
    "        P_N.loc['POS',days[j]] = (P_plus_N + P_minue_N)/2\n",
    "        P_N.loc['NEG',days[j]] = (P_plus_N - P_minue_N)/2\n",
    "        P_N.loc['num_tw',days[j]] = num_tw\n",
    "        P_N.loc['SA',days[j]] = P_minue_N\n",
    "        if P_plus_N == 0:\n",
    "            P_N.loc['SR',days[j]] = 0\n",
    "        else:\n",
    "            P_N.loc['SR',days[j]] = P_minue_N/P_plus_N\n",
    "    store_name = ticker[i] + '_sa_sr.csv'\n",
    "    store_dir = 'SA_SR'\n",
    "    save_path = os.path.join(store_dir,store_name)\n",
    "    P_N.to_csv(save_path)"
   ]
  },
  {
   "cell_type": "markdown",
   "metadata": {},
   "source": [
    "Calculate SA and SR of each stock every single day."
   ]
  },
  {
   "cell_type": "code",
   "execution_count": 8,
   "metadata": {},
   "outputs": [],
   "source": [
    "import yfinance as yf\n",
    "import math"
   ]
  },
  {
   "cell_type": "code",
   "execution_count": 9,
   "metadata": {},
   "outputs": [
    {
     "name": "stdout",
     "output_type": "stream",
     "text": [
      "[*********************100%***********************]  1 of 1 completed\n"
     ]
    }
   ],
   "source": [
    "# Use SPY return as the market index\n",
    "market_index=yf.download('SPY',start='2020-12-04',end='2020-12-15')"
   ]
  },
  {
   "cell_type": "code",
   "execution_count": 10,
   "metadata": {},
   "outputs": [],
   "source": [
    "tra_day=list(market_index.index)\n",
    "for j in range(len(tra_day)):\n",
    "    if j > 0:\n",
    "        market_index.loc[tra_day[j],'log_return']=math.log(market_index.loc[tra_day[j],'Adj Close']/market_index.loc[tra_day[j-1],'Adj Close'])"
   ]
  },
  {
   "cell_type": "code",
   "execution_count": 11,
   "metadata": {},
   "outputs": [
    {
     "name": "stdout",
     "output_type": "stream",
     "text": [
      "[*********************100%***********************]  1 of 1 completed\n",
      "[*********************100%***********************]  1 of 1 completed\n",
      "[*********************100%***********************]  1 of 1 completed\n",
      "[*********************100%***********************]  1 of 1 completed\n",
      "[*********************100%***********************]  1 of 1 completed\n",
      "[*********************100%***********************]  1 of 1 completed\n",
      "[*********************100%***********************]  1 of 1 completed\n",
      "[*********************100%***********************]  1 of 1 completed\n",
      "[*********************100%***********************]  1 of 1 completed\n",
      "[*********************100%***********************]  1 of 1 completed\n",
      "[*********************100%***********************]  1 of 1 completed\n",
      "[*********************100%***********************]  1 of 1 completed\n"
     ]
    }
   ],
   "source": [
    "for i in range(len(ticker)):\n",
    "    df_stock=yf.download(ticker[i],start='2020-12-04',end='2020-12-15')\n",
    "    tra_day=list(df_stock.index)\n",
    "    for j in range(len(tra_day)):\n",
    "        high = df_stock.loc[tra_day[j],'High']\n",
    "        low = df_stock.loc[tra_day[j],'Low']\n",
    "        df_stock.loc[tra_day[j],'Vol'] = 2*(high-low)/(high+low)\n",
    "        if j > 0:\n",
    "            df_stock.loc[tra_day[j],'log_return']=math.log(df_stock.loc[tra_day[j],'Adj Close']/df_stock.loc[tra_day[j-1],'Adj Close'])\n",
    "            df_stock.loc[tra_day[j],'Excess_return'] = df_stock.loc[tra_day[j],'log_return'] - market_index.loc[tra_day[j],'log_return']\n",
    "    store_name = ticker[i] + '_price.csv'\n",
    "    save_path = os.path.join('Stock_return_vol',store_name)\n",
    "    df_stock.to_csv(save_path)"
   ]
  },
  {
   "cell_type": "code",
   "execution_count": null,
   "metadata": {},
   "outputs": [],
   "source": []
  }
 ],
 "metadata": {
  "kernelspec": {
   "display_name": "Python 3",
   "language": "python",
   "name": "python3"
  },
  "language_info": {
   "codemirror_mode": {
    "name": "ipython",
    "version": 3
   },
   "file_extension": ".py",
   "mimetype": "text/x-python",
   "name": "python",
   "nbconvert_exporter": "python",
   "pygments_lexer": "ipython3",
   "version": "3.8.5"
  }
 },
 "nbformat": 4,
 "nbformat_minor": 4
}
